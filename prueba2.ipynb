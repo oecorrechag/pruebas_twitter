{
 "cells": [
  {
   "cell_type": "code",
   "execution_count": 1,
   "metadata": {},
   "outputs": [],
   "source": [
    "import pandas as pd\n",
    "import tweepy\n",
    "from secrets_key import MY_BEARER_TOKEN\n",
    "\n",
    "# create your client \n",
    "client = tweepy.Client(bearer_token=MY_BEARER_TOKEN)\n",
    "\n",
    "# query = \"#FestivalCordillera lang:es -is:retweet\"\n",
    "# query = \"#covid19 lang:en -is:retweet\"\n",
    "# query = \"#Rihanna lang:es -is:retweet\"\n",
    "# query = \"Mario Bros (happy OR exciting OR excited OR favorite OR fav OR amazing OR lovely OR incredible) lang:es -is:retweet\"\n",
    "# query = \"Mario Bros -is:retweet\"\n",
    "query = \"musica colombiana\"\n",
    "\n",
    "# your start and end time for fetching tweets\n",
    "start_time = '2023-02-20T00:00:00Z'\n",
    "end_time = \"2023-02-24T00:00:00Z\""
   ]
  },
  {
   "cell_type": "code",
   "execution_count": 2,
   "metadata": {},
   "outputs": [],
   "source": [
    "tweets = client.search_recent_tweets(query=query,\n",
    "                                     start_time=start_time,\n",
    "                                     end_time=end_time,\n",
    "                                     tweet_fields = [\"created_at\", \"text\", \"source\"],\n",
    "                                     user_fields = [\"name\", \"username\", \"location\", \"verified\", \"description\"],\n",
    "                                     max_results = 10,\n",
    "                                     expansions='author_id'\n",
    "                                     )"
   ]
  },
  {
   "cell_type": "code",
   "execution_count": 4,
   "metadata": {},
   "outputs": [
    {
     "data": {
      "text/plain": [
       "[<Tweet id=1628900059491274753 text='eu li que a composição é do Lin-Manuel Miranda e automaticamente ouvi Ariel fazendo rap com música colombiana https://t.co/gQUlSIkhcV'>,\n",
       " <Tweet id=1628891087275163648 text='RT @NaomySafira: @fatouoficial Em teoria, um prêmio para música latina deve ser concedido a latinos e ela é europeia. Cantar música latina…'>,\n",
       " <Tweet id=1628873922337730563 text='RT @vanguardiacom: El 37 Festival Nacional de la Música Colombiana, a realizarse del 13 al 20 de marzo en Ibagué, contará agrupación el Bar…'>,\n",
       " <Tweet id=1628873844520898568 text='Esta es la hora y el día del próximo éxito de la música colombiana. https://t.co/PQrg8Siyfe'>,\n",
       " <Tweet id=1628870623773556743 text='RT @vanguardiacom: El 37 Festival Nacional de la Música Colombiana, a realizarse del 13 al 20 de marzo en Ibagué, contará agrupación el Bar…'>,\n",
       " <Tweet id=1628870321871769600 text='RT @elespectador: .@MoratBanda presenta versión mariachi de “Debí suponerlo”, junto a Camila Fernández\\n\\nLa banda colombiana une su talento…'>,\n",
       " <Tweet id=1628867949908877321 text='¡Así vivimos Nuestro Concierto de Gala de la Edición 37 del Festival Nacional de Música Colombiana!\\n\\nLa Cita es en la ciudad de Ibagué del 13 al 19 de Marzo 📌\\n\\nLink: https://t.co/xxhPP8wl8T 🎵🎶▶️'>,\n",
       " <Tweet id=1628864396360396800 text=\"RT @Banrepcultural: Hablemos de la historia social de la música colombiana. En nuestro Blog de Música está disponible la serie 'Composición…\">,\n",
       " <Tweet id=1628862382918234114 text=\"Hablemos de la historia social de la música colombiana. En nuestro Blog de Música está disponible la serie 'Composición en Colombia', de ella hoy recomendamos la tercera entrega sobre cómo hechos de inicios del s.XX tuvieron eco en los sonidos de la época:\\nhttps://t.co/yV1w4R0EQv https://t.co/aFZOpj5HP9\">,\n",
       " <Tweet id=1628862267528986624 text='#FestivalDeMúsicaColombiana | Cerca de 400 niños y jóvenes serán parte de la apertura del #Festival Nacional de #Música #Colombiana\\n\\nhttps://t.co/kcu4y5BMvJ https://t.co/ksQnBBYUf6'>]"
      ]
     },
     "execution_count": 4,
     "metadata": {},
     "output_type": "execute_result"
    }
   ],
   "source": [
    "tweets.data"
   ]
  },
  {
   "cell_type": "code",
   "execution_count": 14,
   "metadata": {},
   "outputs": [],
   "source": [
    "start_time = '2023-02-19T00:00:00Z'\n",
    "end_time = \"2023-02-25T00:00:00Z\""
   ]
  },
  {
   "cell_type": "code",
   "execution_count": 15,
   "metadata": {},
   "outputs": [],
   "source": [
    "cuenta = '2685187191'"
   ]
  },
  {
   "cell_type": "code",
   "execution_count": 21,
   "metadata": {},
   "outputs": [],
   "source": [
    "tweets = client.get_users_tweets(id=cuenta,\n",
    "                                     start_time=start_time,\n",
    "                                     end_time=end_time,\n",
    "                                     tweet_fields = [\"created_at\", \"text\", \"source\"],\n",
    "                                     user_fields = [\"name\", \"username\", \"location\", \"verified\", \"description\"],\n",
    "                                     max_results = 100,\n",
    "                                     expansions='author_id'\n",
    "                                     )"
   ]
  },
  {
   "cell_type": "code",
   "execution_count": 22,
   "metadata": {},
   "outputs": [],
   "source": [
    "# create a list of records\n",
    "tweet_info_ls = []"
   ]
  },
  {
   "cell_type": "code",
   "execution_count": 33,
   "metadata": {},
   "outputs": [
    {
     "name": "stdout",
     "output_type": "stream",
     "text": [
      "                 created_at  \\\n",
      "0 2023-02-24 13:50:35+00:00   \n",
      "1 2023-02-24 13:50:35+00:00   \n",
      "2 2023-02-24 13:50:35+00:00   \n",
      "3 2023-02-24 02:18:47+00:00   \n",
      "4 2023-02-23 15:25:50+00:00   \n",
      "\n",
      "                                                text source  \\\n",
      "0  Slowly getting back into reddit! Goal for this...   None   \n",
      "1  Slowly getting back into reddit! Goal for this...   None   \n",
      "2  Slowly getting back into reddit! Goal for this...   None   \n",
      "3    Tell me I’m cute plz? 🥺 https://t.co/DDnxQrMhT4   None   \n",
      "4  Only a few days left for 25% OFF my premium 0F...   None   \n",
      "\n",
      "                      name      username  location verified  \\\n",
      "0  Sara Mei Kasai @Free 0F  sarameikasai       NaN    False   \n",
      "1                      NaN           NaN       NaN      NaN   \n",
      "2                      NaN           NaN       NaN      NaN   \n",
      "3                      NaN           NaN       NaN      NaN   \n",
      "4                      NaN           NaN       NaN      NaN   \n",
      "\n",
      "                                         description  \n",
      "0  BLM ✿ French Canadian ✿ Gamer & Cosplayer ✿ Pr...  \n",
      "1                                                NaN  \n",
      "2                                                NaN  \n",
      "3                                                NaN  \n",
      "4                                                NaN  \n"
     ]
    }
   ],
   "source": [
    "for tweet in tweets.data:\n",
    "    tweet_info = {\n",
    "        'created_at': tweet.created_at,\n",
    "        'text': tweet.text,\n",
    "        'source': tweet.source,\n",
    "        # 'name': user.name,\n",
    "        # 'username': user.username,\n",
    "        # 'location': user.location,\n",
    "        # 'verified': user.verified,\n",
    "        # 'description': user.description\n",
    "    }\n",
    "    tweet_info_ls.append(tweet_info)\n",
    "# create dataframe from the extracted records\n",
    "tweets_df = pd.DataFrame(tweet_info_ls)\n",
    "# display the dataframe\n",
    "print(tweets_df.head())"
   ]
  },
  {
   "cell_type": "code",
   "execution_count": 34,
   "metadata": {},
   "outputs": [],
   "source": [
    "tweets_df.to_csv('prueba.csv', encoding = 'utf-8-sig', index = False)"
   ]
  },
  {
   "cell_type": "code",
   "execution_count": 31,
   "metadata": {},
   "outputs": [
    {
     "data": {
      "text/plain": [
       "126"
      ]
     },
     "execution_count": 31,
     "metadata": {},
     "output_type": "execute_result"
    }
   ],
   "source": [
    "len(tweets.data[0])"
   ]
  },
  {
   "cell_type": "code",
   "execution_count": null,
   "metadata": {},
   "outputs": [],
   "source": []
  }
 ],
 "metadata": {
  "kernelspec": {
   "display_name": "env",
   "language": "python",
   "name": "python3"
  },
  "language_info": {
   "codemirror_mode": {
    "name": "ipython",
    "version": 3
   },
   "file_extension": ".py",
   "mimetype": "text/x-python",
   "name": "python",
   "nbconvert_exporter": "python",
   "pygments_lexer": "ipython3",
   "version": "3.11.0"
  },
  "orig_nbformat": 4,
  "vscode": {
   "interpreter": {
    "hash": "fc6f53bd255e0b332457f3933c3c74fcf9d3076b42218d65a1285d237868aa1f"
   }
  }
 },
 "nbformat": 4,
 "nbformat_minor": 2
}
