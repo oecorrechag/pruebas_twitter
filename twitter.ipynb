{
 "cells": [
  {
   "attachments": {},
   "cell_type": "markdown",
   "metadata": {},
   "source": [
    "# Aims\n",
    "\n",
    "En este archivo se iran colocando los codigos puros que han servido\n",
    "\n",
    "## 1. Bajar una tendencia o palabra"
   ]
  },
  {
   "cell_type": "code",
   "execution_count": 1,
   "metadata": {},
   "outputs": [],
   "source": [
    "import pandas as pd\n",
    "import tweepy\n",
    "from secrets_key import MY_BEARER_TOKEN\n",
    "\n",
    "# create your client \n",
    "client = tweepy.Client(bearer_token=MY_BEARER_TOKEN)"
   ]
  },
  {
   "cell_type": "code",
   "execution_count": 17,
   "metadata": {},
   "outputs": [],
   "source": [
    "# query = \"#FestivalCordillera lang:es -is:retweet\"\n",
    "# query = \"#covid19 lang:en -is:retweet\"\n",
    "# query = \"#Rihanna lang:es -is:retweet\"\n",
    "# query = \"Mario Bros (happy OR exciting OR excited OR favorite OR fav OR amazing OR lovely OR incredible) lang:es -is:retweet\"\n",
    "# query = \"Mario Bros -is:retweet\"\n",
    "# query = \"musica colombiana lang:es\"\n",
    "query = \"musica colombiana\""
   ]
  },
  {
   "cell_type": "code",
   "execution_count": 18,
   "metadata": {},
   "outputs": [],
   "source": [
    "# your start and end time for fetching tweets\n",
    "start_time = '2023-02-01T00:00:00Z'\n",
    "end_time = \"2023-02-25T00:00:00Z\""
   ]
  },
  {
   "cell_type": "code",
   "execution_count": 57,
   "metadata": {},
   "outputs": [],
   "source": [
    "# se hace la busqueda de 10 tweets por la palabra o tendencia, entre las fechas seleccionadas, y baja \n",
    "tweets = client.search_recent_tweets(query=query,\n",
    "                                     start_time=start_time,\n",
    "                                     end_time=end_time,\n",
    "                                     tweet_fields = [\"author_id\", \"created_at\", \"text\", \"source\", \"geo\", \"lang\"],\n",
    "                                     user_fields = [\"name\", \"username\", \"location\", \"verified\", \"description\", \"profile_image_url\"],\n",
    "                                     max_results = 10000,\n",
    "                                     # place_fields = ['contained_within', 'country', 'country_code', 'full_name', 'geo', 'id', 'name', 'place_type'],\n",
    "                                     expansions= 'author_id',  #['author_id', 'geo.place_id']\n",
    "                                     )"
   ]
  },
  {
   "cell_type": "code",
   "execution_count": 58,
   "metadata": {},
   "outputs": [
    {
     "name": "stdout",
     "output_type": "stream",
     "text": [
      "10\n",
      "10\n"
     ]
    }
   ],
   "source": [
    "# tweet specific info\n",
    "print(len(tweets.data))\n",
    "# user specific info\n",
    "print(len(tweets.includes[\"users\"]))"
   ]
  },
  {
   "cell_type": "code",
   "execution_count": 59,
   "metadata": {},
   "outputs": [
    {
     "data": {
      "text/plain": [
       "{'lang': 'es',\n",
       " 'edit_history_tweet_ids': [1628873922337730563],\n",
       " 'id': 1628873922337730563,\n",
       " 'author_id': 785040260,\n",
       " 'created_at': datetime.datetime(2023, 2, 23, 21, 46, 20, tzinfo=datetime.timezone.utc),\n",
       " 'text': 'RT @vanguardiacom: El 37 Festival Nacional de la Música Colombiana, a realizarse del 13 al 20 de marzo en Ibagué, contará agrupación el Bar…'}"
      ]
     },
     "execution_count": 59,
     "metadata": {},
     "output_type": "execute_result"
    }
   ],
   "source": [
    "# first tweet\n",
    "first_tweet = tweets.data[0]\n",
    "dict(first_tweet)"
   ]
  },
  {
   "cell_type": "code",
   "execution_count": 60,
   "metadata": {},
   "outputs": [
    {
     "data": {
      "text/plain": [
       "{'name': 'Edwin Castañeda',\n",
       " 'username': 'PROCESOSONORO',\n",
       " 'profile_image_url': 'https://pbs.twimg.com/profile_images/2549408082/Edwin_Casta_eda_normal.jpg',\n",
       " 'verified': False,\n",
       " 'id': 785040260,\n",
       " 'description': 'Maestro en Música de la Universidad Autónoma de Bucaramanga UNAB, donde actualmente dirige la cátedra de Tiple y la Orquesta de Cuerdas Pulsadas.',\n",
       " 'location': 'Bucaramanga, Colombia'}"
      ]
     },
     "execution_count": 60,
     "metadata": {},
     "output_type": "execute_result"
    }
   ],
   "source": [
    "# user information for the first tweet\n",
    "first_tweet_user = tweets.includes[\"users\"][0]\n",
    "dict(first_tweet_user)\n"
   ]
  },
  {
   "cell_type": "code",
   "execution_count": 24,
   "metadata": {},
   "outputs": [
    {
     "name": "stdout",
     "output_type": "stream",
     "text": [
      "             author_id                created_at  \\\n",
      "0            785040260 2023-02-23 21:46:20+00:00   \n",
      "1  1548263729191460865 2023-02-23 21:46:02+00:00   \n",
      "2            779736464 2023-02-23 21:33:14+00:00   \n",
      "3  1139955824544112642 2023-02-23 21:32:02+00:00   \n",
      "4            247746841 2023-02-23 21:22:36+00:00   \n",
      "\n",
      "                                                text source   geo lang  \\\n",
      "0  RT @vanguardiacom: El 37 Festival Nacional de ...   None  None   es   \n",
      "1  Esta es la hora y el día del próximo éxito de ...   None  None   es   \n",
      "2  RT @vanguardiacom: El 37 Festival Nacional de ...   None  None   es   \n",
      "3  RT @elespectador: .@MoratBanda presenta versió...   None  None   es   \n",
      "4  ¡Así vivimos Nuestro Concierto de Gala de la E...   None  None   es   \n",
      "\n",
      "                             name         username  \\\n",
      "0                 Edwin Castañeda    PROCESOSONORO   \n",
      "1                    chafarderias    chafarderias_   \n",
      "2             ElBarberoDelSocorro   barberosocorro   \n",
      "3                           tatin    tatin64197239   \n",
      "4  Fundación Musical de Colombia.  fundacionmuscol   \n",
      "\n",
      "                        location  verified  \\\n",
      "0          Bucaramanga, Colombia     False   \n",
      "1                           None     False   \n",
      "2  Colombia - Venezuela - España     False   \n",
      "3                           None     False   \n",
      "4                Ibagué - Tolima     False   \n",
      "\n",
      "                                         description  \\\n",
      "0  Maestro en Música de la Universidad Autónoma d...   \n",
      "1  Los chismes y rumores de los famosos que nadie...   \n",
      "2  Acoustic Trio - Authentic Latin Music.\\n\\nHemo...   \n",
      "3                                                      \n",
      "4  Entidad de interés social que busca resaltar, ...   \n",
      "\n",
      "                                   profile_image_url  \n",
      "0  https://pbs.twimg.com/profile_images/254940808...  \n",
      "1  https://pbs.twimg.com/profile_images/157737158...  \n",
      "2  https://pbs.twimg.com/profile_images/254096206...  \n",
      "3  https://pbs.twimg.com/profile_images/120641117...  \n",
      "4  https://pbs.twimg.com/profile_images/139795397...  \n"
     ]
    }
   ],
   "source": [
    "# create a list of records\n",
    "tweet_info_ls = []\n",
    "# iterate over each tweet and corresponding user details\n",
    "for tweet, user in zip(tweets.data, tweets.includes['users']):\n",
    "    tweet_info = {\n",
    "        'author_id': tweet.author_id,\n",
    "        'created_at': tweet.created_at,\n",
    "        'text': tweet.text,\n",
    "        'source': tweet.source,\n",
    "        'geo': tweet.geo,\n",
    "        'lang': tweet.lang,\n",
    "        'name': user.name,\n",
    "        'username': user.username,\n",
    "        'location': user.location,\n",
    "        'verified': user.verified,\n",
    "        'description': user.description,\n",
    "        'profile_image_url': user.profile_image_url,\n",
    "    }\n",
    "    tweet_info_ls.append(tweet_info)\n",
    "# create dataframe from the extracted records\n",
    "tweets_df = pd.DataFrame(tweet_info_ls)\n",
    "# display the dataframe\n",
    "print(tweets_df.head())"
   ]
  },
  {
   "cell_type": "code",
   "execution_count": 25,
   "metadata": {},
   "outputs": [],
   "source": [
    "tweets_df.to_csv('tweets_musica.csv', encoding = 'utf-8-sig', index = False)"
   ]
  },
  {
   "cell_type": "code",
   "execution_count": null,
   "metadata": {},
   "outputs": [],
   "source": []
  },
  {
   "cell_type": "code",
   "execution_count": null,
   "metadata": {},
   "outputs": [],
   "source": []
  },
  {
   "cell_type": "code",
   "execution_count": null,
   "metadata": {},
   "outputs": [],
   "source": []
  },
  {
   "cell_type": "code",
   "execution_count": 71,
   "metadata": {},
   "outputs": [
    {
     "name": "stdout",
     "output_type": "stream",
     "text": [
      "1629617916160229380\n",
      "1629597746318520320\n",
      "1629551883315494914\n",
      "1629538115722567681\n",
      "1629526801713184768\n",
      "1629494607087017985\n",
      "1629466873665388545\n",
      "1629464386325688322\n",
      "1629462988808765440\n",
      "1629461631989166083\n",
      "1629442938500464640\n",
      "1629436056507408386\n",
      "1629408930404388864\n",
      "1629406738683133953\n",
      "1629381953836265473\n",
      "1629368196699398144\n",
      "1629312211431854080\n",
      "1629312186140209152\n",
      "1629312180456931332\n",
      "1629305007160934402\n",
      "1629304998055096321\n",
      "1629272259511582720\n",
      "1629253246186299394\n",
      "1629240454318284804\n",
      "1629208152246812672\n",
      "1629206144555130883\n",
      "1629205446249652226\n",
      "1629205174001496065\n",
      "1629204941184155648\n",
      "1629204039417167872\n",
      "1629189499568750592\n",
      "1629186559290363905\n",
      "1629170265006432256\n",
      "1629108713167458304\n",
      "1629073759297732610\n",
      "1629073666209202177\n",
      "1629063763822542848\n",
      "1629008345523957771\n",
      "1628968722248667136\n",
      "1628968719375532032\n",
      "1628959685251596288\n",
      "1628909867539767297\n",
      "1628900074418831361\n",
      "1628881374743523330\n",
      "1628862362517385216\n",
      "1628862291784478720\n",
      "1628838023486906368\n",
      "1628836985073704960\n",
      "1628836138281582594\n",
      "1628827115398234115\n",
      "1628808770875981824\n",
      "1628797160518225922\n",
      "1628791623214678020\n",
      "1628791394914521089\n",
      "1628767662518968321\n",
      "1628759028812619776\n",
      "1628714456170524672\n",
      "1628711365438504961\n",
      "1628711275755671552\n",
      "1628672839174815745\n",
      "1628671517402726404\n",
      "1628641276558991360\n",
      "1628601718606004225\n",
      "1628578090870837254\n",
      "1628569077647024128\n",
      "1628537694283264000\n",
      "1628517253531549698\n",
      "1628483323717644288\n",
      "1628464724600930305\n",
      "1628438070830964736\n",
      "1628351129296982017\n",
      "1628348889689427970\n",
      "1628320015693783041\n",
      "1628280572052180993\n",
      "1628102339843194889\n",
      "1628056187538382848\n",
      "1628019221279170560\n",
      "1628007693268004864\n",
      "1627995078773075969\n",
      "1627986502318714882\n",
      "1627978515852193792\n",
      "1627973430439215106\n",
      "1627767475239628800\n",
      "1627744977697574941\n",
      "1627744409142890532\n",
      "1627739953009463308\n",
      "1627722416901201926\n",
      "1627722299108634625\n",
      "1627719988193665025\n",
      "1627667118065061888\n",
      "1627661487778021376\n",
      "1627646778722947074\n",
      "1627631676829405184\n",
      "1627624917163298816\n",
      "1627624871491674113\n",
      "1627624827937857536\n",
      "1627624203833999361\n",
      "1627624114029576192\n",
      "1627622837170184195\n",
      "1627616576290582535\n",
      "1627601477182099456\n",
      "1627586379210190848\n",
      "1627571280756056064\n",
      "1627565433388929024\n",
      "1627556176622673920\n",
      "1627541079468679168\n",
      "1627525977671712768\n",
      "1627510882434527232\n",
      "1627509150208102403\n",
      "1627495777487450112\n",
      "1627480681457635334\n",
      "1627465580717477889\n",
      "1627450485429919746\n",
      "1627435385277095936\n",
      "1627427394163277824\n",
      "1627420290950086661\n",
      "1627405186523140098\n",
      "1627390085636268032\n",
      "1627377561272479745\n",
      "1627374984451526656\n",
      "1627359884911034371\n",
      "1627352061254959106\n",
      "1627344788373610497\n",
      "1627329686727524352\n",
      "1627314590798184450\n",
      "1627307625477197830\n",
      "1627299497536618500\n",
      "1627284387061542913\n",
      "1627271965500391425\n",
      "1627269289236480002\n",
      "1627261727808139264\n",
      "1627254208243068928\n",
      "1627249834225704961\n",
      "1627239088553074689\n",
      "1627223988479971333\n",
      "1627208889224536064\n",
      "1627193797267406848\n",
      "1627183534053150720\n",
      "1627178694425944064\n",
      "1627163592582656001\n",
      "1627148495021912065\n",
      "1627133399679873025\n",
      "1627118301850509312\n",
      "1627103194139570176\n",
      "1627088093756145665\n"
     ]
    }
   ],
   "source": [
    "for tweet in tweepy.Paginator(client.search_recent_tweets, \"Tweepy\",\n",
    "                                max_results=100).flatten(limit=250):\n",
    "    print(tweet.id)"
   ]
  },
  {
   "cell_type": "code",
   "execution_count": 72,
   "metadata": {},
   "outputs": [
    {
     "data": {
      "text/plain": [
       "134"
      ]
     },
     "execution_count": 72,
     "metadata": {},
     "output_type": "execute_result"
    }
   ],
   "source": [
    "len(tweet)"
   ]
  },
  {
   "cell_type": "code",
   "execution_count": 73,
   "metadata": {},
   "outputs": [
    {
     "name": "stdout",
     "output_type": "stream",
     "text": [
      "             author_id                created_at  \\\n",
      "0            785040260 2023-02-23 21:46:20+00:00   \n",
      "1  1548263729191460865 2023-02-23 21:46:02+00:00   \n",
      "2            779736464 2023-02-23 21:33:14+00:00   \n",
      "3  1139955824544112642 2023-02-23 21:32:02+00:00   \n",
      "4            247746841 2023-02-23 21:22:36+00:00   \n",
      "\n",
      "                                                text source   geo lang  \\\n",
      "0  RT @vanguardiacom: El 37 Festival Nacional de ...   None  None   es   \n",
      "1  Esta es la hora y el día del próximo éxito de ...   None  None   es   \n",
      "2  RT @vanguardiacom: El 37 Festival Nacional de ...   None  None   es   \n",
      "3  RT @elespectador: .@MoratBanda presenta versió...   None  None   es   \n",
      "4  ¡Así vivimos Nuestro Concierto de Gala de la E...   None  None   es   \n",
      "\n",
      "                             name         username  \\\n",
      "0                 Edwin Castañeda    PROCESOSONORO   \n",
      "1                    chafarderias    chafarderias_   \n",
      "2             ElBarberoDelSocorro   barberosocorro   \n",
      "3                           tatin    tatin64197239   \n",
      "4  Fundación Musical de Colombia.  fundacionmuscol   \n",
      "\n",
      "                        location  verified  \\\n",
      "0          Bucaramanga, Colombia     False   \n",
      "1                           None     False   \n",
      "2  Colombia - Venezuela - España     False   \n",
      "3                           None     False   \n",
      "4                Ibagué - Tolima     False   \n",
      "\n",
      "                                         description  \\\n",
      "0  Maestro en Música de la Universidad Autónoma d...   \n",
      "1  Los chismes y rumores de los famosos que nadie...   \n",
      "2  Acoustic Trio - Authentic Latin Music.\\n\\nHemo...   \n",
      "3                                                      \n",
      "4  Entidad de interés social que busca resaltar, ...   \n",
      "\n",
      "                                   profile_image_url  \n",
      "0  https://pbs.twimg.com/profile_images/254940808...  \n",
      "1  https://pbs.twimg.com/profile_images/157737158...  \n",
      "2  https://pbs.twimg.com/profile_images/254096206...  \n",
      "3  https://pbs.twimg.com/profile_images/120641117...  \n",
      "4  https://pbs.twimg.com/profile_images/139795397...  \n"
     ]
    }
   ],
   "source": [
    "# create a list of records\n",
    "tweet_info_ls = []\n",
    "# iterate over each tweet and corresponding user details\n",
    "for tweet, user in zip(tweets.data, tweets.includes['users']):\n",
    "    tweet_info = {\n",
    "        'author_id': tweet.author_id,\n",
    "        'created_at': tweet.created_at,\n",
    "        'text': tweet.text,\n",
    "        'source': tweet.source,\n",
    "        'geo': tweet.geo,\n",
    "        'lang': tweet.lang,\n",
    "        'name': user.name,\n",
    "        'username': user.username,\n",
    "        'location': user.location,\n",
    "        'verified': user.verified,\n",
    "        'description': user.description,\n",
    "        'profile_image_url': user.profile_image_url,\n",
    "    }\n",
    "    tweet_info_ls.append(tweet_info)\n",
    "# create dataframe from the extracted records\n",
    "tweets_df = pd.DataFrame(tweet_info_ls)\n",
    "# display the dataframe\n",
    "print(tweets_df.head())"
   ]
  },
  {
   "cell_type": "code",
   "execution_count": null,
   "metadata": {},
   "outputs": [],
   "source": []
  },
  {
   "cell_type": "code",
   "execution_count": null,
   "metadata": {},
   "outputs": [],
   "source": []
  }
 ],
 "metadata": {
  "kernelspec": {
   "display_name": "env",
   "language": "python",
   "name": "python3"
  },
  "language_info": {
   "codemirror_mode": {
    "name": "ipython",
    "version": 3
   },
   "file_extension": ".py",
   "mimetype": "text/x-python",
   "name": "python",
   "nbconvert_exporter": "python",
   "pygments_lexer": "ipython3",
   "version": "3.11.0"
  },
  "orig_nbformat": 4,
  "vscode": {
   "interpreter": {
    "hash": "fc6f53bd255e0b332457f3933c3c74fcf9d3076b42218d65a1285d237868aa1f"
   }
  }
 },
 "nbformat": 4,
 "nbformat_minor": 2
}
