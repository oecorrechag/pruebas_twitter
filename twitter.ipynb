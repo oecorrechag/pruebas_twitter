{
 "cells": [
  {
   "attachments": {},
   "cell_type": "markdown",
   "metadata": {},
   "source": [
    "# Aims\n",
    "\n",
    "En este archivo se iran colocando los codigos puros que han servido\n",
    "\n",
    "## 1. Bajar una tendencia o palabra"
   ]
  },
  {
   "cell_type": "code",
   "execution_count": 2,
   "metadata": {},
   "outputs": [],
   "source": [
    "import pandas as pd\n",
    "import tweepy\n",
    "from secrets_key import MY_BEARER_TOKEN\n",
    "\n",
    "# create your client \n",
    "client = tweepy.Client(bearer_token=MY_BEARER_TOKEN)"
   ]
  },
  {
   "cell_type": "code",
   "execution_count": 17,
   "metadata": {},
   "outputs": [],
   "source": [
    "# query = \"#FestivalCordillera lang:es -is:retweet\"\n",
    "# query = \"#covid19 lang:en -is:retweet\"\n",
    "# query = \"#Rihanna lang:es -is:retweet\"\n",
    "# query = \"Mario Bros (happy OR exciting OR excited OR favorite OR fav OR amazing OR lovely OR incredible) lang:es -is:retweet\"\n",
    "# query = \"Mario Bros -is:retweet\"\n",
    "# query = \"musica colombiana lang:es\"\n",
    "query = \"musica colombiana\""
   ]
  },
  {
   "cell_type": "code",
   "execution_count": 18,
   "metadata": {},
   "outputs": [],
   "source": [
    "# your start and end time for fetching tweets\n",
    "start_time = '2023-02-01T00:00:00Z'\n",
    "end_time = \"2023-02-25T00:00:00Z\""
   ]
  },
  {
   "cell_type": "code",
   "execution_count": 57,
   "metadata": {},
   "outputs": [],
   "source": [
    "# se hace la busqueda de 10 tweets por la palabra o tendencia, entre las fechas seleccionadas, y baja \n",
    "tweets = client.search_recent_tweets(query=query,\n",
    "                                     start_time=start_time,\n",
    "                                     end_time=end_time,\n",
    "                                     tweet_fields = [\"author_id\", \"created_at\", \"text\", \"source\", \"geo\", \"lang\"],\n",
    "                                     user_fields = [\"name\", \"username\", \"location\", \"verified\", \"description\", \"profile_image_url\"],\n",
    "                                     max_results = 10000,\n",
    "                                     # place_fields = ['contained_within', 'country', 'country_code', 'full_name', 'geo', 'id', 'name', 'place_type'],\n",
    "                                     expansions= 'author_id',  #['author_id', 'geo.place_id']\n",
    "                                     )"
   ]
  },
  {
   "cell_type": "code",
   "execution_count": 58,
   "metadata": {},
   "outputs": [
    {
     "name": "stdout",
     "output_type": "stream",
     "text": [
      "10\n",
      "10\n"
     ]
    }
   ],
   "source": [
    "# tweet specific info\n",
    "print(len(tweets.data))\n",
    "# user specific info\n",
    "print(len(tweets.includes[\"users\"]))"
   ]
  },
  {
   "cell_type": "code",
   "execution_count": 59,
   "metadata": {},
   "outputs": [
    {
     "data": {
      "text/plain": [
       "{'lang': 'es',\n",
       " 'edit_history_tweet_ids': [1628873922337730563],\n",
       " 'id': 1628873922337730563,\n",
       " 'author_id': 785040260,\n",
       " 'created_at': datetime.datetime(2023, 2, 23, 21, 46, 20, tzinfo=datetime.timezone.utc),\n",
       " 'text': 'RT @vanguardiacom: El 37 Festival Nacional de la Música Colombiana, a realizarse del 13 al 20 de marzo en Ibagué, contará agrupación el Bar…'}"
      ]
     },
     "execution_count": 59,
     "metadata": {},
     "output_type": "execute_result"
    }
   ],
   "source": [
    "# first tweet\n",
    "first_tweet = tweets.data[0]\n",
    "dict(first_tweet)"
   ]
  },
  {
   "cell_type": "code",
   "execution_count": 60,
   "metadata": {},
   "outputs": [
    {
     "data": {
      "text/plain": [
       "{'name': 'Edwin Castañeda',\n",
       " 'username': 'PROCESOSONORO',\n",
       " 'profile_image_url': 'https://pbs.twimg.com/profile_images/2549408082/Edwin_Casta_eda_normal.jpg',\n",
       " 'verified': False,\n",
       " 'id': 785040260,\n",
       " 'description': 'Maestro en Música de la Universidad Autónoma de Bucaramanga UNAB, donde actualmente dirige la cátedra de Tiple y la Orquesta de Cuerdas Pulsadas.',\n",
       " 'location': 'Bucaramanga, Colombia'}"
      ]
     },
     "execution_count": 60,
     "metadata": {},
     "output_type": "execute_result"
    }
   ],
   "source": [
    "# user information for the first tweet\n",
    "first_tweet_user = tweets.includes[\"users\"][0]\n",
    "dict(first_tweet_user)\n"
   ]
  },
  {
   "cell_type": "code",
   "execution_count": 24,
   "metadata": {},
   "outputs": [
    {
     "name": "stdout",
     "output_type": "stream",
     "text": [
      "             author_id                created_at  \\\n",
      "0            785040260 2023-02-23 21:46:20+00:00   \n",
      "1  1548263729191460865 2023-02-23 21:46:02+00:00   \n",
      "2            779736464 2023-02-23 21:33:14+00:00   \n",
      "3  1139955824544112642 2023-02-23 21:32:02+00:00   \n",
      "4            247746841 2023-02-23 21:22:36+00:00   \n",
      "\n",
      "                                                text source   geo lang  \\\n",
      "0  RT @vanguardiacom: El 37 Festival Nacional de ...   None  None   es   \n",
      "1  Esta es la hora y el día del próximo éxito de ...   None  None   es   \n",
      "2  RT @vanguardiacom: El 37 Festival Nacional de ...   None  None   es   \n",
      "3  RT @elespectador: .@MoratBanda presenta versió...   None  None   es   \n",
      "4  ¡Así vivimos Nuestro Concierto de Gala de la E...   None  None   es   \n",
      "\n",
      "                             name         username  \\\n",
      "0                 Edwin Castañeda    PROCESOSONORO   \n",
      "1                    chafarderias    chafarderias_   \n",
      "2             ElBarberoDelSocorro   barberosocorro   \n",
      "3                           tatin    tatin64197239   \n",
      "4  Fundación Musical de Colombia.  fundacionmuscol   \n",
      "\n",
      "                        location  verified  \\\n",
      "0          Bucaramanga, Colombia     False   \n",
      "1                           None     False   \n",
      "2  Colombia - Venezuela - España     False   \n",
      "3                           None     False   \n",
      "4                Ibagué - Tolima     False   \n",
      "\n",
      "                                         description  \\\n",
      "0  Maestro en Música de la Universidad Autónoma d...   \n",
      "1  Los chismes y rumores de los famosos que nadie...   \n",
      "2  Acoustic Trio - Authentic Latin Music.\\n\\nHemo...   \n",
      "3                                                      \n",
      "4  Entidad de interés social que busca resaltar, ...   \n",
      "\n",
      "                                   profile_image_url  \n",
      "0  https://pbs.twimg.com/profile_images/254940808...  \n",
      "1  https://pbs.twimg.com/profile_images/157737158...  \n",
      "2  https://pbs.twimg.com/profile_images/254096206...  \n",
      "3  https://pbs.twimg.com/profile_images/120641117...  \n",
      "4  https://pbs.twimg.com/profile_images/139795397...  \n"
     ]
    }
   ],
   "source": [
    "# create a list of records\n",
    "tweet_info_ls = []\n",
    "# iterate over each tweet and corresponding user details\n",
    "for tweet, user in zip(tweets.data, tweets.includes['users']):\n",
    "    tweet_info = {\n",
    "        'author_id': tweet.author_id,\n",
    "        'created_at': tweet.created_at,\n",
    "        'text': tweet.text,\n",
    "        'source': tweet.source,\n",
    "        'geo': tweet.geo,\n",
    "        'lang': tweet.lang,\n",
    "        'name': user.name,\n",
    "        'username': user.username,\n",
    "        'location': user.location,\n",
    "        'verified': user.verified,\n",
    "        'description': user.description,\n",
    "        'profile_image_url': user.profile_image_url,\n",
    "    }\n",
    "    tweet_info_ls.append(tweet_info)\n",
    "# create dataframe from the extracted records\n",
    "tweets_df = pd.DataFrame(tweet_info_ls)\n",
    "# display the dataframe\n",
    "print(tweets_df.head())"
   ]
  },
  {
   "cell_type": "code",
   "execution_count": 25,
   "metadata": {},
   "outputs": [],
   "source": [
    "tweets_df.to_csv('tweets_musica.csv', encoding = 'utf-8-sig', index = False)"
   ]
  },
  {
   "cell_type": "code",
   "execution_count": null,
   "metadata": {},
   "outputs": [],
   "source": []
  },
  {
   "cell_type": "code",
   "execution_count": 3,
   "metadata": {},
   "outputs": [],
   "source": [
    "from datetime import datetime"
   ]
  },
  {
   "cell_type": "code",
   "execution_count": 12,
   "metadata": {},
   "outputs": [
    {
     "data": {
      "text/plain": [
       "'2023-02-23T21:46:20Z'"
      ]
     },
     "execution_count": 12,
     "metadata": {},
     "output_type": "execute_result"
    }
   ],
   "source": [
    "nd = '2023-02-23 21:46:20'\n",
    "# nd = datetime.strptime(nd, '%d/%m/%y %H:%M:%S')\n",
    "nd = datetime.strptime(nd, '%Y-%m-%d %H:%M:%S')\n",
    "nd = nd.isoformat() + \"Z\"\n",
    "nd "
   ]
  },
  {
   "cell_type": "code",
   "execution_count": null,
   "metadata": {},
   "outputs": [],
   "source": [
    "datetime.datetime.utcnow().isoformat() + \"Z\""
   ]
  },
  {
   "cell_type": "code",
   "execution_count": null,
   "metadata": {},
   "outputs": [],
   "source": [
    "start_time = '2023-02-01T00:00:00Z'\n",
    "start_time = '2023-02-23 21:46:20+00:00'"
   ]
  },
  {
   "cell_type": "code",
   "execution_count": 32,
   "metadata": {},
   "outputs": [
    {
     "data": {
      "text/html": [
       "<div>\n",
       "<style scoped>\n",
       "    .dataframe tbody tr th:only-of-type {\n",
       "        vertical-align: middle;\n",
       "    }\n",
       "\n",
       "    .dataframe tbody tr th {\n",
       "        vertical-align: top;\n",
       "    }\n",
       "\n",
       "    .dataframe thead th {\n",
       "        text-align: right;\n",
       "    }\n",
       "</style>\n",
       "<table border=\"1\" class=\"dataframe\">\n",
       "  <thead>\n",
       "    <tr style=\"text-align: right;\">\n",
       "      <th></th>\n",
       "      <th>author_id</th>\n",
       "      <th>created_at</th>\n",
       "      <th>text</th>\n",
       "      <th>source</th>\n",
       "      <th>geo</th>\n",
       "      <th>lang</th>\n",
       "      <th>name</th>\n",
       "      <th>username</th>\n",
       "      <th>location</th>\n",
       "      <th>verified</th>\n",
       "      <th>description</th>\n",
       "      <th>profile_image_url</th>\n",
       "    </tr>\n",
       "  </thead>\n",
       "  <tbody>\n",
       "    <tr>\n",
       "      <th>0</th>\n",
       "      <td>785040260</td>\n",
       "      <td>2023-02-23 21:46:20+00:00</td>\n",
       "      <td>RT @vanguardiacom: El 37 Festival Nacional de ...</td>\n",
       "      <td>NaN</td>\n",
       "      <td>NaN</td>\n",
       "      <td>es</td>\n",
       "      <td>Edwin Castañeda</td>\n",
       "      <td>PROCESOSONORO</td>\n",
       "      <td>Bucaramanga, Colombia</td>\n",
       "      <td>False</td>\n",
       "      <td>Maestro en Música de la Universidad Autónoma d...</td>\n",
       "      <td>https://pbs.twimg.com/profile_images/254940808...</td>\n",
       "    </tr>\n",
       "    <tr>\n",
       "      <th>1</th>\n",
       "      <td>1548263729191460865</td>\n",
       "      <td>2023-02-23 21:46:02+00:00</td>\n",
       "      <td>Esta es la hora y el día del próximo éxito de ...</td>\n",
       "      <td>NaN</td>\n",
       "      <td>NaN</td>\n",
       "      <td>es</td>\n",
       "      <td>chafarderias</td>\n",
       "      <td>chafarderias_</td>\n",
       "      <td>NaN</td>\n",
       "      <td>False</td>\n",
       "      <td>Los chismes y rumores de los famosos que nadie...</td>\n",
       "      <td>https://pbs.twimg.com/profile_images/157737158...</td>\n",
       "    </tr>\n",
       "    <tr>\n",
       "      <th>2</th>\n",
       "      <td>779736464</td>\n",
       "      <td>2023-02-23 21:33:14+00:00</td>\n",
       "      <td>RT @vanguardiacom: El 37 Festival Nacional de ...</td>\n",
       "      <td>NaN</td>\n",
       "      <td>NaN</td>\n",
       "      <td>es</td>\n",
       "      <td>ElBarberoDelSocorro</td>\n",
       "      <td>barberosocorro</td>\n",
       "      <td>Colombia - Venezuela - España</td>\n",
       "      <td>False</td>\n",
       "      <td>Acoustic Trio - Authentic Latin Music.\\n\\nHemo...</td>\n",
       "      <td>https://pbs.twimg.com/profile_images/254096206...</td>\n",
       "    </tr>\n",
       "    <tr>\n",
       "      <th>3</th>\n",
       "      <td>1139955824544112642</td>\n",
       "      <td>2023-02-23 21:32:02+00:00</td>\n",
       "      <td>RT @elespectador: .@MoratBanda presenta versió...</td>\n",
       "      <td>NaN</td>\n",
       "      <td>NaN</td>\n",
       "      <td>es</td>\n",
       "      <td>tatin</td>\n",
       "      <td>tatin64197239</td>\n",
       "      <td>NaN</td>\n",
       "      <td>False</td>\n",
       "      <td>NaN</td>\n",
       "      <td>https://pbs.twimg.com/profile_images/120641117...</td>\n",
       "    </tr>\n",
       "    <tr>\n",
       "      <th>4</th>\n",
       "      <td>247746841</td>\n",
       "      <td>2023-02-23 21:22:36+00:00</td>\n",
       "      <td>¡Así vivimos Nuestro Concierto de Gala de la E...</td>\n",
       "      <td>NaN</td>\n",
       "      <td>NaN</td>\n",
       "      <td>es</td>\n",
       "      <td>Fundación Musical de Colombia.</td>\n",
       "      <td>fundacionmuscol</td>\n",
       "      <td>Ibagué - Tolima</td>\n",
       "      <td>False</td>\n",
       "      <td>Entidad de interés social que busca resaltar, ...</td>\n",
       "      <td>https://pbs.twimg.com/profile_images/139795397...</td>\n",
       "    </tr>\n",
       "  </tbody>\n",
       "</table>\n",
       "</div>"
      ],
      "text/plain": [
       "             author_id                created_at  \\\n",
       "0            785040260 2023-02-23 21:46:20+00:00   \n",
       "1  1548263729191460865 2023-02-23 21:46:02+00:00   \n",
       "2            779736464 2023-02-23 21:33:14+00:00   \n",
       "3  1139955824544112642 2023-02-23 21:32:02+00:00   \n",
       "4            247746841 2023-02-23 21:22:36+00:00   \n",
       "\n",
       "                                                text  source  geo lang  \\\n",
       "0  RT @vanguardiacom: El 37 Festival Nacional de ...     NaN  NaN   es   \n",
       "1  Esta es la hora y el día del próximo éxito de ...     NaN  NaN   es   \n",
       "2  RT @vanguardiacom: El 37 Festival Nacional de ...     NaN  NaN   es   \n",
       "3  RT @elespectador: .@MoratBanda presenta versió...     NaN  NaN   es   \n",
       "4  ¡Así vivimos Nuestro Concierto de Gala de la E...     NaN  NaN   es   \n",
       "\n",
       "                             name         username  \\\n",
       "0                 Edwin Castañeda    PROCESOSONORO   \n",
       "1                    chafarderias    chafarderias_   \n",
       "2             ElBarberoDelSocorro   barberosocorro   \n",
       "3                           tatin    tatin64197239   \n",
       "4  Fundación Musical de Colombia.  fundacionmuscol   \n",
       "\n",
       "                        location  verified  \\\n",
       "0          Bucaramanga, Colombia     False   \n",
       "1                            NaN     False   \n",
       "2  Colombia - Venezuela - España     False   \n",
       "3                            NaN     False   \n",
       "4                Ibagué - Tolima     False   \n",
       "\n",
       "                                         description  \\\n",
       "0  Maestro en Música de la Universidad Autónoma d...   \n",
       "1  Los chismes y rumores de los famosos que nadie...   \n",
       "2  Acoustic Trio - Authentic Latin Music.\\n\\nHemo...   \n",
       "3                                                NaN   \n",
       "4  Entidad de interés social que busca resaltar, ...   \n",
       "\n",
       "                                   profile_image_url  \n",
       "0  https://pbs.twimg.com/profile_images/254940808...  \n",
       "1  https://pbs.twimg.com/profile_images/157737158...  \n",
       "2  https://pbs.twimg.com/profile_images/254096206...  \n",
       "3  https://pbs.twimg.com/profile_images/120641117...  \n",
       "4  https://pbs.twimg.com/profile_images/139795397...  "
      ]
     },
     "execution_count": 32,
     "metadata": {},
     "output_type": "execute_result"
    }
   ],
   "source": [
    "df = pd.read_csv('tweets_musica.csv', sep = ',', decimal = '.', header = 0, encoding = 'utf-8')\n",
    "df['created_at'] = pd.to_datetime(df['created_at'])\n",
    "df.head()"
   ]
  },
  {
   "cell_type": "code",
   "execution_count": 25,
   "metadata": {},
   "outputs": [
    {
     "name": "stdout",
     "output_type": "stream",
     "text": [
      "<class 'pandas.core.frame.DataFrame'>\n",
      "RangeIndex: 10 entries, 0 to 9\n",
      "Data columns (total 12 columns):\n",
      " #   Column             Non-Null Count  Dtype              \n",
      "---  ------             --------------  -----              \n",
      " 0   author_id          10 non-null     int64              \n",
      " 1   created_at         10 non-null     datetime64[ns, UTC]\n",
      " 2   text               10 non-null     object             \n",
      " 3   source             0 non-null      float64            \n",
      " 4   geo                0 non-null      float64            \n",
      " 5   lang               10 non-null     object             \n",
      " 6   name               10 non-null     object             \n",
      " 7   username           10 non-null     object             \n",
      " 8   location           7 non-null      object             \n",
      " 9   verified           10 non-null     bool               \n",
      " 10  description        8 non-null      object             \n",
      " 11  profile_image_url  10 non-null     object             \n",
      "dtypes: bool(1), datetime64[ns, UTC](1), float64(2), int64(1), object(7)\n",
      "memory usage: 1018.0+ bytes\n"
     ]
    }
   ],
   "source": [
    "df.info()"
   ]
  },
  {
   "cell_type": "code",
   "execution_count": 7,
   "metadata": {},
   "outputs": [
    {
     "data": {
      "text/plain": [
       "'2023-02-23T21:46:20+00:00Z'"
      ]
     },
     "execution_count": 7,
     "metadata": {},
     "output_type": "execute_result"
    }
   ],
   "source": [
    "d = df['created_at'].max()\n",
    "d = d.isoformat()+'Z'\n",
    "d"
   ]
  },
  {
   "cell_type": "code",
   "execution_count": null,
   "metadata": {},
   "outputs": [],
   "source": []
  },
  {
   "cell_type": "code",
   "execution_count": null,
   "metadata": {},
   "outputs": [],
   "source": []
  },
  {
   "cell_type": "code",
   "execution_count": 40,
   "metadata": {},
   "outputs": [
    {
     "name": "stderr",
     "output_type": "stream",
     "text": [
      "C:\\Users\\Oscar\\AppData\\Local\\Temp\\ipykernel_3584\\733947604.py:54: FutureWarning: In a future version, object-dtype columns with all-bool values will not be included in reductions with bool_only=True. Explicitly cast to bool dtype instead.\n",
      "  tweets_df = pd.concat([tweets_df,df2], ignore_index=True)\n",
      "C:\\Users\\Oscar\\AppData\\Local\\Temp\\ipykernel_3584\\733947604.py:54: FutureWarning: In a future version, object-dtype columns with all-bool values will not be included in reductions with bool_only=True. Explicitly cast to bool dtype instead.\n",
      "  tweets_df = pd.concat([tweets_df,df2], ignore_index=True)\n",
      "C:\\Users\\Oscar\\AppData\\Local\\Temp\\ipykernel_3584\\733947604.py:54: FutureWarning: In a future version, object-dtype columns with all-bool values will not be included in reductions with bool_only=True. Explicitly cast to bool dtype instead.\n",
      "  tweets_df = pd.concat([tweets_df,df2], ignore_index=True)\n",
      "C:\\Users\\Oscar\\AppData\\Local\\Temp\\ipykernel_3584\\733947604.py:54: FutureWarning: In a future version, object-dtype columns with all-bool values will not be included in reductions with bool_only=True. Explicitly cast to bool dtype instead.\n",
      "  tweets_df = pd.concat([tweets_df,df2], ignore_index=True)\n",
      "C:\\Users\\Oscar\\AppData\\Local\\Temp\\ipykernel_3584\\733947604.py:54: FutureWarning: In a future version, object-dtype columns with all-bool values will not be included in reductions with bool_only=True. Explicitly cast to bool dtype instead.\n",
      "  tweets_df = pd.concat([tweets_df,df2], ignore_index=True)\n",
      "C:\\Users\\Oscar\\AppData\\Local\\Temp\\ipykernel_3584\\733947604.py:54: FutureWarning: In a future version, object-dtype columns with all-bool values will not be included in reductions with bool_only=True. Explicitly cast to bool dtype instead.\n",
      "  tweets_df = pd.concat([tweets_df,df2], ignore_index=True)\n",
      "C:\\Users\\Oscar\\AppData\\Local\\Temp\\ipykernel_3584\\733947604.py:54: FutureWarning: In a future version, object-dtype columns with all-bool values will not be included in reductions with bool_only=True. Explicitly cast to bool dtype instead.\n",
      "  tweets_df = pd.concat([tweets_df,df2], ignore_index=True)\n",
      "C:\\Users\\Oscar\\AppData\\Local\\Temp\\ipykernel_3584\\733947604.py:54: FutureWarning: In a future version, object-dtype columns with all-bool values will not be included in reductions with bool_only=True. Explicitly cast to bool dtype instead.\n",
      "  tweets_df = pd.concat([tweets_df,df2], ignore_index=True)\n",
      "C:\\Users\\Oscar\\AppData\\Local\\Temp\\ipykernel_3584\\733947604.py:54: FutureWarning: In a future version, object-dtype columns with all-bool values will not be included in reductions with bool_only=True. Explicitly cast to bool dtype instead.\n",
      "  tweets_df = pd.concat([tweets_df,df2], ignore_index=True)\n"
     ]
    }
   ],
   "source": [
    "query = \"musica colombiana\"\n",
    "start_time = '2023-02-19T15:00:00Z'\n",
    "end_time = \"2023-02-26T00:00:00Z\"\n",
    "tweets_df = pd.DataFrame(columns =['created_at'])\n",
    "tweets_df['created_at'] = pd.to_datetime(tweets_df['created_at'])\n",
    "\n",
    "\n",
    "for i in range(10):\n",
    "    x = df['created_at'].max()\n",
    "    x = x.isoformat()+'Z'\n",
    "    y = '2023-01-01T00:00:00Z'\n",
    "\n",
    "    if x!= 'NaTZ':\n",
    "        if x > y:\n",
    "            start_time = x\n",
    "        else:\n",
    "            start_time = '2023-02-19T15:00:00Z'\n",
    "    else:\n",
    "         start_time = '2023-02-19T15:00:00Z'\n",
    "\n",
    "    # se hace la busqueda de 10 tweets por la palabra o tendencia, entre las fechas seleccionadas, y baja \n",
    "    tweets = client.search_recent_tweets(query=query,\n",
    "                                         start_time=start_time,\n",
    "                                         end_time=end_time,\n",
    "                                         tweet_fields = [\"author_id\", \"created_at\", \"text\", \"source\", \"geo\", \"lang\"],\n",
    "                                         user_fields = [\"name\", \"username\", \"location\", \"verified\", \"description\", \"profile_image_url\"],\n",
    "                                         max_results = 100,\n",
    "                                         # place_fields = ['contained_within', 'country', 'country_code', 'full_name', 'geo', 'id', 'name', 'place_type'],\n",
    "                                         expansions= 'author_id',  #['author_id', 'geo.place_id']\n",
    "                                        )\n",
    "        \n",
    "    # create a list of records\n",
    "    tweet_info_ls = []\n",
    "    # iterate over each tweet and corresponding user details\n",
    "    for tweet, user in zip(tweets.data, tweets.includes['users']):\n",
    "        tweet_info = {\n",
    "            'author_id': tweet.author_id,\n",
    "            'created_at': tweet.created_at,\n",
    "            'text': tweet.text,\n",
    "            'source': tweet.source,\n",
    "            'geo': tweet.geo,\n",
    "            'lang': tweet.lang,\n",
    "            'name': user.name,\n",
    "            'username': user.username,\n",
    "            'location': user.location,\n",
    "            'verified': user.verified,\n",
    "            'description': user.description,\n",
    "            'profile_image_url': user.profile_image_url,\n",
    "        }\n",
    "        tweet_info_ls.append(tweet_info)\n",
    "    # create dataframe from the extracted records\n",
    "    df2 = pd.DataFrame(tweet_info_ls)\n",
    "\n",
    "    tweets_df = pd.concat([tweets_df,df2], ignore_index=True)\n",
    "\n",
    "    # guardar\n",
    "    tweets_df.to_csv('tweets_musica2.csv', encoding = 'utf-8-sig', index = False)\n",
    "\n"
   ]
  },
  {
   "cell_type": "code",
   "execution_count": null,
   "metadata": {},
   "outputs": [],
   "source": []
  },
  {
   "cell_type": "code",
   "execution_count": null,
   "metadata": {},
   "outputs": [],
   "source": []
  }
 ],
 "metadata": {
  "kernelspec": {
   "display_name": "env",
   "language": "python",
   "name": "python3"
  },
  "language_info": {
   "codemirror_mode": {
    "name": "ipython",
    "version": 3
   },
   "file_extension": ".py",
   "mimetype": "text/x-python",
   "name": "python",
   "nbconvert_exporter": "python",
   "pygments_lexer": "ipython3",
   "version": "3.11.0"
  },
  "orig_nbformat": 4,
  "vscode": {
   "interpreter": {
    "hash": "fc6f53bd255e0b332457f3933c3c74fcf9d3076b42218d65a1285d237868aa1f"
   }
  }
 },
 "nbformat": 4,
 "nbformat_minor": 2
}
